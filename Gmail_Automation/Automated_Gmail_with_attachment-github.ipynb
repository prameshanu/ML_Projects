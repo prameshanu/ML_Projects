{
 "cells": [
  {
   "cell_type": "code",
   "execution_count": null,
   "id": "20c96efb-35ef-49e5-a009-2798503c5b63",
   "metadata": {
    "tags": []
   },
   "outputs": [],
   "source": [
    "import smtplib\n",
    "import pandas as pd\n",
    "from email.mime.text import MIMEText\n",
    "from email.mime.multipart import MIMEMultipart\n",
    "from email.mime.base import MIMEBase\n",
    "from email import encoders"
   ]
  },
  {
   "cell_type": "code",
   "execution_count": null,
   "id": "909bb9ac-eb14-4a5c-9c04-3e61b2a08c71",
   "metadata": {
    "tags": []
   },
   "outputs": [],
   "source": [
    "# Email configuration\n",
    "# There is step by step process to generate app_password. Reach out to me in case you need that.\n",
    "sender_email = \"XXXX\"\n",
    "app_password = \"XXX\"  # Replace with your generated app password \n",
    "\n"
   ]
  },
  {
   "cell_type": "code",
   "execution_count": null,
   "id": "aa491d93-562e-4f8c-a7f2-5e1b12c3860c",
   "metadata": {
    "tags": []
   },
   "outputs": [],
   "source": [
    "Mail_body = f\"\"\"\n",
    "Dear Recruiter,\n",
    "\n",
    " Your cover letter\n",
    "  \n",
    "Regards,\n",
    "Your name\n",
    " \"\"\""
   ]
  },
  {
   "cell_type": "code",
   "execution_count": null,
   "id": "ef6de5c8-fe67-4208-8c32-71ea5ba2102e",
   "metadata": {
    "tags": []
   },
   "outputs": [],
   "source": [
    "def mail_with_attachment(receiver_email,company):\n",
    "    # Email content\n",
    "    subject = f\"Job opportunity at {company}\"\n",
    "    body = Mail_body\n",
    "\n",
    "    # Create the email\n",
    "    message = MIMEMultipart()\n",
    "    message[\"From\"] = sender_email\n",
    "    message[\"To\"] = receiver_email\n",
    "    message[\"Subject\"] = subject\n",
    "\n",
    "    # Attach the body text\n",
    "    message.attach(MIMEText(body, \"plain\"))\n",
    "\n",
    "\n",
    "    # Attach a PDF file\n",
    "    file_path = \"Resume.pdf\"  # Replace with the path to your PDF\n",
    "\n",
    "    try:\n",
    "        with open(file_path, \"rb\") as attachment:\n",
    "            # Create a MIMEBase object\n",
    "            part = MIMEBase(\"application\", \"octet-stream\")\n",
    "            part.set_payload(attachment.read())\n",
    "\n",
    "        # Encode file in ASCII characters for safe email transmission\n",
    "        encoders.encode_base64(part)\n",
    "\n",
    "        # Add headers\n",
    "        part.add_header(\n",
    "            \"Content-Disposition\",\n",
    "            f\"attachment; filename={file_path.split('/')[-1]}\"  # Extract the file name from the path\n",
    "        )\n",
    "\n",
    "        # Attach the file to the email\n",
    "        message.attach(part)\n",
    "    except FileNotFoundError:\n",
    "        print(f\"Error: The file {file_path} was not found.\")\n",
    "        exit()\n",
    "\n",
    "    # Connect to the Gmail SMTP server and send the email\n",
    "    try:\n",
    "        with smtplib.SMTP(\"smtp.gmail.com\", 587) as server:\n",
    "            server.starttls()  # Upgrade the connection to secure\n",
    "            server.login(sender_email, app_password)  # Use app password here\n",
    "            server.sendmail(sender_email, receiver_email, message.as_string())\n",
    "        print(\"Email with attachment sent successfully!\")\n",
    "    except Exception as e:\n",
    "        print(f\"Failed to send email: {e}\")\n",
    "\n"
   ]
  },
  {
   "cell_type": "code",
   "execution_count": null,
   "id": "c078724d-8c20-4c9b-a045-411321523ecc",
   "metadata": {},
   "outputs": [],
   "source": [
    "mail_with_attachment(receiver_email, company)"
   ]
  }
 ],
 "metadata": {
  "kernelspec": {
   "display_name": "Python 3 (ipykernel)",
   "language": "python",
   "name": "python3"
  },
  "language_info": {
   "codemirror_mode": {
    "name": "ipython",
    "version": 3
   },
   "file_extension": ".py",
   "mimetype": "text/x-python",
   "name": "python",
   "nbconvert_exporter": "python",
   "pygments_lexer": "ipython3",
   "version": "3.11.4"
  }
 },
 "nbformat": 4,
 "nbformat_minor": 5
}
