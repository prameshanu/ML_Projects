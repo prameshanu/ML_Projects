{
 "cells": [
  {
   "cell_type": "code",
   "execution_count": null,
   "id": "20c96efb-35ef-49e5-a009-2798503c5b63",
   "metadata": {
    "tags": []
   },
   "outputs": [],
   "source": [
    "import smtplib\n",
    "import pandas as pd\n",
    "from email.mime.text import MIMEText\n",
    "from email.mime.multipart import MIMEMultipart\n",
    "from email.mime.base import MIMEBase\n",
    "from email import encoders"
   ]
  },
  {
   "cell_type": "code",
   "execution_count": null,
   "id": "909bb9ac-eb14-4a5c-9c04-3e61b2a08c71",
   "metadata": {
    "tags": []
   },
   "outputs": [],
   "source": [
    "# Email configuration\n",
    "sender_email = \"prameshanuragi91@gmail.com\"\n",
    "# receiver_email = \"pramesh.anuragi.nitie@gmail.com\" \n",
    "app_password = \"rfra ftrm vgbj qfxl\"  # Replace with your generated app password\n",
    "\n"
   ]
  },
  {
   "cell_type": "code",
   "execution_count": null,
   "id": "aa491d93-562e-4f8c-a7f2-5e1b12c3860c",
   "metadata": {
    "tags": []
   },
   "outputs": [],
   "source": [
    "Mail_body = f\"\"\"\n",
    "Dear {recruiter_name},\n",
    "\n",
    "I am writing to express my interest in the Data Scientist position at {company}. With over 8 years of experience in data science and analytics, I have honed my skills in developing comprehensive data strategies, predictive modeling, and fostering a data-driven culture within organizations. Just want to highlight, I am currently serving my notice period and plan to relocate to the middle east on a Job Seeker Visa within the next month.\n",
    "\n",
    "In my current role as Vice President at IDFC First Bank, I lead a team of data scientists in developing machine learning models and implementing data-driven strategies that have significantly improved customer engagement and operational efficiency. My ability to analyze extensive datasets to uncover trends and inform strategic decisions has been instrumental in driving innovation and business growth.\n",
    "\n",
    "At SMFG India Credit, I spearheaded the estimation of key ECL parameters across multiple portfolios and conducted robust ECL model validation. This experience has equipped me with strong analytical skills and proficiency in statistical techniques, which are essential for the Data Scientist role.\n",
    "\n",
    "I am proficient in enterprise-level data science solutions such as AWS & PySpark, Python, SQL, Tableau, Power BI among others. My experience with these tools will be valuable in optimizing workflows for enhanced efficiency and model accuracy.\n",
    "\n",
    "I am excited about the opportunity to bring my unique blend of skills and experience. Thank you for considering my application. I look forward to the possibility of discussing this exciting opportunity with you.\n",
    "\n",
    "Sincerely,\n",
    "Pramesh Anuragi\n",
    "+971 58 559 0163\n",
    "\"\"\""
   ]
  },
  {
   "cell_type": "code",
   "execution_count": null,
   "id": "ef6de5c8-fe67-4208-8c32-71ea5ba2102e",
   "metadata": {
    "tags": []
   },
   "outputs": [],
   "source": [
    "def mail_with_attachment(receiver_email,company, recruiter_name):\n",
    "    # Email content\n",
    "    subject = f\"Data Science job opportunity at {company}\"\n",
    "    body = Mail_body\n",
    "\n",
    "    # Create the email\n",
    "    message = MIMEMultipart()\n",
    "    message[\"From\"] = sender_email\n",
    "    message[\"To\"] = receiver_email\n",
    "    message[\"Subject\"] = subject\n",
    "\n",
    "    # Attach the body text\n",
    "    message.attach(MIMEText(body, \"plain\"))\n",
    "\n",
    "\n",
    "    # Attach a PDF file\n",
    "    file_path = \"/Users/anjalianuragi/Documents/Pramesh/Documents/Pramesh_Anuragi_Resume_DS.pdf\"  # Replace with the path to your PDF\n",
    "\n",
    "    try:\n",
    "        with open(file_path, \"rb\") as attachment:\n",
    "            # Create a MIMEBase object\n",
    "            part = MIMEBase(\"application\", \"octet-stream\")\n",
    "            part.set_payload(attachment.read())\n",
    "\n",
    "        # Encode file in ASCII characters for safe email transmission\n",
    "        encoders.encode_base64(part)\n",
    "\n",
    "        # Add headers\n",
    "        part.add_header(\n",
    "            \"Content-Disposition\",\n",
    "            f\"attachment; filename={file_path.split('/')[-1]}\"  # Extract the file name from the path\n",
    "        )\n",
    "\n",
    "        # Attach the file to the email\n",
    "        message.attach(part)\n",
    "    except FileNotFoundError:\n",
    "        print(f\"Error: The file {file_path} was not found.\")\n",
    "        exit()\n",
    "\n",
    "    # Connect to the Gmail SMTP server and send the email\n",
    "    try:\n",
    "        with smtplib.SMTP(\"smtp.gmail.com\", 587) as server:\n",
    "            server.starttls()  # Upgrade the connection to secure\n",
    "            server.login(sender_email, app_password)  # Use app password here\n",
    "            server.sendmail(sender_email, receiver_email, message.as_string())\n",
    "        print(\"Email with attachment sent successfully!\")\n",
    "    except Exception as e:\n",
    "        print(f\"Failed to send email: {e}\")\n",
    "\n"
   ]
  },
  {
   "cell_type": "code",
   "execution_count": null,
   "id": "77a24ea3-5757-43f7-aeec-820bfd098524",
   "metadata": {},
   "outputs": [],
   "source": []
  },
  {
   "cell_type": "code",
   "execution_count": null,
   "id": "9618c628-827b-47c9-a388-729580e4e242",
   "metadata": {
    "tags": []
   },
   "outputs": [],
   "source": [
    "directory = pd.read_csv('/Users/anjalianuragi/Documents/Pramesh/Documents/Directory_test.csv')"
   ]
  },
  {
   "cell_type": "code",
   "execution_count": null,
   "id": "84f0ac2c-63c2-47c1-8267-5ee3347bbbb9",
   "metadata": {
    "tags": []
   },
   "outputs": [],
   "source": [
    "len = directory.shape[0]-1"
   ]
  },
  {
   "cell_type": "code",
   "execution_count": null,
   "id": "baec3d93-b132-4ca5-ae34-246d3a318a96",
   "metadata": {
    "tags": []
   },
   "outputs": [],
   "source": [
    "for i in (0,len):\n",
    "    receiver_email = directory['Emailid'][i]\n",
    "    company = directory['Company Name'][i]\n",
    "    recruiter_name = directory['Recruiter Name'][i]\n",
    "    mail_with_attachment(receiver_email, company, recruiter_name,Mail_body)\n",
    "    "
   ]
  },
  {
   "cell_type": "code",
   "execution_count": null,
   "id": "58b13267-361b-4a19-a8d0-b1ba66544ccb",
   "metadata": {},
   "outputs": [],
   "source": []
  },
  {
   "cell_type": "code",
   "execution_count": null,
   "id": "5ccca85b-4677-4f5e-9c39-6869c6b7ec23",
   "metadata": {
    "tags": []
   },
   "outputs": [],
   "source": [
    "mail_with_attachment(receiver_email, company)"
   ]
  },
  {
   "cell_type": "code",
   "execution_count": null,
   "id": "d11d5afa-1ab7-414f-870d-ca97cc0cdde2",
   "metadata": {
    "tags": []
   },
   "outputs": [],
   "source": [
    "receiver_email"
   ]
  },
  {
   "cell_type": "code",
   "execution_count": null,
   "id": "9eef6ddd-69c3-413c-9838-ce52cdb12da8",
   "metadata": {},
   "outputs": [],
   "source": []
  },
  {
   "cell_type": "code",
   "execution_count": null,
   "id": "62eb13e3-295d-4015-bf8a-5e4a07f3224e",
   "metadata": {
    "tags": []
   },
   "outputs": [],
   "source": [
    "\n"
   ]
  },
  {
   "cell_type": "code",
   "execution_count": null,
   "id": "34cacdc9-6a50-4e76-afa7-3dd093847dab",
   "metadata": {},
   "outputs": [],
   "source": []
  },
  {
   "cell_type": "code",
   "execution_count": null,
   "id": "21c3784b-d974-4a57-852f-c91862ffa841",
   "metadata": {},
   "outputs": [],
   "source": []
  },
  {
   "cell_type": "code",
   "execution_count": null,
   "id": "8d79a12f-8faa-4183-950e-6feb6db21605",
   "metadata": {},
   "outputs": [],
   "source": []
  }
 ],
 "metadata": {
  "kernelspec": {
   "display_name": "Python 3 (ipykernel)",
   "language": "python",
   "name": "python3"
  },
  "language_info": {
   "codemirror_mode": {
    "name": "ipython",
    "version": 3
   },
   "file_extension": ".py",
   "mimetype": "text/x-python",
   "name": "python",
   "nbconvert_exporter": "python",
   "pygments_lexer": "ipython3",
   "version": "3.11.4"
  }
 },
 "nbformat": 4,
 "nbformat_minor": 5
}
